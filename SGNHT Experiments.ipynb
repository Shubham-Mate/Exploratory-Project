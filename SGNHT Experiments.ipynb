{
 "cells": [
  {
   "cell_type": "code",
   "execution_count": 2,
   "id": "f9ae6308-2e36-4d43-90c4-8746221e0656",
   "metadata": {},
   "outputs": [],
   "source": [
    "from scipy.stats import multivariate_normal\n",
    "import numpy as np\n",
    "import matplotlib.pyplot as plt\n",
    "from sklearn.neighbors import KernelDensity"
   ]
  },
  {
   "cell_type": "code",
   "execution_count": 5,
   "id": "4b180bf3-e4b2-4e90-9d1f-0764712ffc31",
   "metadata": {},
   "outputs": [],
   "source": [
    "def generate_random_covariance_matrix(n: int, low: int, high: int):\n",
    "    a = np.random.uniform(low=low, high=high, size=(n, n))\n",
    "    return (a @ a.T) / high"
   ]
  },
  {
   "cell_type": "code",
   "execution_count": 6,
   "id": "d317ad74-8f11-4969-9320-4eafee6c8cf0",
   "metadata": {},
   "outputs": [
    {
     "data": {
      "text/plain": [
       "(array([-0.96001536, -0.9979359 ]),\n",
       " array([[3.63635362, 3.44235394],\n",
       "        [3.44235394, 3.66765783]]))"
      ]
     },
     "execution_count": 6,
     "metadata": {},
     "output_type": "execute_result"
    }
   ],
   "source": [
    "means = np.random.uniform(low=-2, high=2, size=(2,))\n",
    "covariance_matrix = generate_random_covariance_matrix(2, low=1, high=5)\n",
    "\n",
    "means, covariance_matrix"
   ]
  },
  {
   "cell_type": "code",
   "execution_count": 7,
   "id": "65f27cb6-d24a-4c22-8287-16b38f67dcc5",
   "metadata": {},
   "outputs": [],
   "source": [
    "rv = multivariate_normal(means, covariance_matrix)"
   ]
  },
  {
   "cell_type": "code",
   "execution_count": 8,
   "id": "823292af-ef04-46e8-9551-967b25b1a654",
   "metadata": {},
   "outputs": [
    {
     "data": {
      "text/plain": [
       "<matplotlib.contour.QuadContourSet at 0x259378ecc20>"
      ]
     },
     "execution_count": 8,
     "metadata": {},
     "output_type": "execute_result"
    },
    {
     "data": {
      "image/png": "[encoded data removed]",
      "text/plain": [
       "<Figure size 640x480 with 1 Axes>"
      ]
     },
     "metadata": {},
     "output_type": "display_data"
    }
   ],
   "source": [
    "x, y = np.mgrid[-7:7:.01, -7:7:.01]\n",
    "pos = np.dstack((x, y))\n",
    "\n",
    "fig2 = plt.figure()\n",
    "ax2 = fig2.add_subplot(111)\n",
    "\n",
    "ax2.contourf(x, y, rv.pdf(pos))"
   ]
  },
  {
   "cell_type": "code",
   "execution_count": 9,
   "id": "66613749-ec87-4b05-b699-dcc55b2ff292",
   "metadata": {},
   "outputs": [
    {
     "name": "stdout",
     "output_type": "stream",
     "text": [
      "Mean of samples: [-0.920497   -0.97342022]\n",
      "Covariance of samples: [[3.28560171 3.02432681]\n",
      " [3.02432681 3.23437672]]\n"
     ]
    }
   ],
   "source": [
    "def sgld_sample_gaussian_with_covariance(num_samples, theta_init, mu, Sigma, eta_0, burn_in=100, thinning=10):\n",
    "    \"\"\"\n",
    "    SGLD algorithm to sample from a multivariate Gaussian distribution N(mu, Sigma).\n",
    "    \n",
    "    Parameters:\n",
    "    - num_samples: Total number of samples to collect after burn-in.\n",
    "    - theta_init: Initial value for theta.\n",
    "    - mu: Mean of the Gaussian distribution.\n",
    "    - Sigma: Covariance matrix of the Gaussian distribution.\n",
    "    - eta_0: Initial learning rate (step size).\n",
    "    - burn_in: Number of initial samples to discard (burn-in period).\n",
    "    - thinning: Save every 'thinning' sample to reduce correlation between samples.\n",
    "    \n",
    "    Returns:\n",
    "    - samples: Collected samples from the target distribution.\n",
    "    \"\"\"\n",
    "    \n",
    "    # Initialize theta\n",
    "    theta = theta_init\n",
    "    dim = theta.shape[0]  # Dimensionality of theta\n",
    "    samples = []\n",
    "    \n",
    "    # Precompute the inverse of the covariance matrix Sigma\n",
    "    Sigma_inv = np.linalg.inv(Sigma)\n",
    "    \n",
    "    # Total iterations needed (including burn-in and thinning)\n",
    "    total_iterations = burn_in + (num_samples * thinning)\n",
    "    \n",
    "    for t in range(1, total_iterations + 1):\n",
    "        # Learning rate schedule (eta_t = eta_0 / t)\n",
    "        #eta_t = eta_0 / t\n",
    "        \n",
    "        # Gradient of log p(theta) for multivariate Gaussian N(mu, Sigma)\n",
    "        grad_log_p_theta = -np.dot(Sigma_inv, (theta - mu))\n",
    "        \n",
    "        # Noise term: Gaussian noise with variance proportional to eta_t\n",
    "        noise = np.random.normal(0, np.sqrt(eta_0), size=dim)\n",
    "        \n",
    "        # SGLD update step\n",
    "        theta = theta + (eta_0 / 2) * grad_log_p_theta + noise\n",
    "        \n",
    "        # After burn-in, save samples with thinning\n",
    "        if t > burn_in and (t - burn_in) % thinning == 0:\n",
    "            samples.append(theta.copy())\n",
    "    \n",
    "    return np.array(samples)\n",
    "\n",
    "# Parameters for the multivariate Gaussian distribution N(mu, Sigma)\n",
    "mu = means  # Mean vector (non-zero)\n",
    "Sigma = covariance_matrix  # Covariance matrix\n",
    "eta_0 = 0.1  # Initial learning rate\n",
    "theta_init = np.random.randn(2)  # Start with a 2D random point\n",
    "num_samples = 5000  # Number of samples we want to collect after burn-in\n",
    "\n",
    "# Run SGLD to sample from N(mu, Sigma)\n",
    "samples = sgld_sample_gaussian_with_covariance(num_samples=num_samples, \n",
    "                                               theta_init=theta_init, \n",
    "                                               mu=mu, \n",
    "                                               Sigma=Sigma, \n",
    "                                               eta_0=eta_0,\n",
    "                                               burn_in=100)\n",
    "\n",
    "# Now samples contains the SGLD samples from N(mu, Sigma)\n",
    "print(\"Mean of samples:\", np.mean(samples, axis=0))\n",
    "print(\"Covariance of samples:\", np.cov(samples, rowvar=False))\n"
   ]
  },
  {
   "cell_type": "code",
   "execution_count": 10,
   "id": "4a07902a-52f9-4d41-bc67-815fa3b9b0fb",
   "metadata": {},
   "outputs": [],
   "source": [
    "rv_sampled = multivariate_normal(np.mean(samples, axis=0), np.cov(samples, rowvar=False))"
   ]
  },
  {
   "cell_type": "code",
   "execution_count": 11,
   "id": "e426d3c4-9c91-44b1-8dc6-20943f938889",
   "metadata": {},
   "outputs": [
    {
     "data": {
      "text/plain": [
       "array([[-2.43350293, -1.53569343],\n",
       "       [-1.5510461 , -0.76222973],\n",
       "       [-1.82420036, -1.04889148],\n",
       "       ...,\n",
       "       [-1.02496529, -0.99798404],\n",
       "       [-0.33029601,  0.52174154],\n",
       "       [-0.69304727,  0.30987697]])"
      ]
     },
     "execution_count": 11,
     "metadata": {},
     "output_type": "execute_result"
    }
   ],
   "source": [
    "samples"
   ]
  },
  {
   "cell_type": "code",
   "execution_count": 12,
   "id": "e1f2a3dd-84c4-4141-a920-1f0b6205cfa6",
   "metadata": {},
   "outputs": [
    {
     "data": {
      "text/plain": [
       "<matplotlib.collections.PathCollection at 0x2593de64710>"
      ]
     },
     "execution_count": 12,
     "metadata": {},
     "output_type": "execute_result"
    },
    {
     "data": {
      "image/png": "[encoded data removed]",
      "text/plain": [
       "<Figure size 640x480 with 1 Axes>"
      ]
     },
     "metadata": {},
     "output_type": "display_data"
    }
   ],
   "source": [
    "plt.scatter(samples[:, 0], samples[:, 1])"
   ]
  },
  {
   "cell_type": "code",
   "execution_count": 13,
   "id": "1ae42dc6-19ee-4485-a15b-d70bd42837ae",
   "metadata": {},
   "outputs": [
    {
     "data": {
      "image/png": "[encoded data removed]",
      "text/plain": [
       "<Figure size 1200x500 with 2 Axes>"
      ]
     },
     "metadata": {},
     "output_type": "display_data"
    }
   ],
   "source": [
    "x, y = np.mgrid[-7:7:.01, -7:7:.01]\n",
    "pos = np.dstack((x, y))\n",
    "\n",
    "fig, (ax1, ax2) = plt.subplots(figsize=(12, 5), ncols=2)\n",
    "\n",
    "ax1.contourf(x, y, rv_sampled.pdf(pos))\n",
    "ax1.set_title(\"Distribution obtained through sampling\")\n",
    "ax2.contourf(x, y, rv.pdf(pos))\n",
    "ax2.set_title(\"Actual Distribution\")\n",
    "\n",
    "plt.show()"
   ]
  },
  {
   "cell_type": "code",
   "execution_count": 14,
   "id": "0e2a5369-c1aa-416b-b565-2cff8e07c3e3",
   "metadata": {},
   "outputs": [],
   "source": [
    "def sgnht_sample_gaussian_with_covariance(num_samples, theta_init, r_init, eps_init, a, mu, Sigma, eta_0, burn_in=100, thinning=10):\n",
    "    \"\"\"\n",
    "    SGNHT with added information about riemann information\n",
    "    \n",
    "    Parameters:\n",
    "    - num_samples: Total number of samples to collect after burn-in.\n",
    "    - theta_init: Initial value for theta.\n",
    "    - mu: Mean of the Gaussian distribution.\n",
    "    - Sigma: Covariance matrix of the Gaussian distribution.\n",
    "    - eta_0: Initial learning rate (step size).\n",
    "    - burn_in: Number of initial samples to discard (burn-in period).\n",
    "    - thinning: Save every 'thinning' sample to reduce correlation between samples.\n",
    "    \n",
    "    Returns:\n",
    "    - samples: Collected samples from the target distribution.\n",
    "    \"\"\"\n",
    "    \n",
    "    # Initialize theta\n",
    "    theta = theta_init\n",
    "    r = r_init\n",
    "    eps = eps_init\n",
    "    dim = theta.shape[0]  # Dimensionality of theta \n",
    "    samples = []\n",
    "    \n",
    "    # Precompute the inverse of the covariance matrix Sigma\n",
    "    Sigma_inv = np.linalg.inv(Sigma)\n",
    "    \n",
    "    # Total iterations needed (including burn-in and thinning)\n",
    "    total_iterations = burn_in + (num_samples * thinning)\n",
    "    \n",
    "    for t in range(1, total_iterations + 1):\n",
    "        # Learning rate schedule (eta_t = eta_0 / t)\n",
    "        if t % 10 == 0:\n",
    "            r = np.random.normal(0, 1, size=(2,))\n",
    "        eta_t = eta_0 \n",
    "        \n",
    "        # Gradient of log p(theta) for multivariate Gaussian N(mu, Sigma)\n",
    "        grad_log_p_theta = np.dot(Sigma_inv, (theta - mu))\n",
    "        \n",
    "        # Noise term: Gaussian noise with variance proportional to eta_t\n",
    "        noise = np.random.normal(0, eta_t * 2 * a, size=dim)\n",
    "        \n",
    "        # SGLD update step\n",
    "        theta = theta + (eta_t) * r\n",
    "        #print(r, (eta_t) * grad_log_p_theta, eta_t * r * eps, noise, (r.T @ r)/dim, (r.T @ r)/dim - 1)\n",
    "        r = r - (eta_t) * grad_log_p_theta - eta_t * r * eps + noise\n",
    "        #r = np.clip(r, -5, 5)\n",
    "        eps = eps + eta_t * ((r.T @ r)/dim - 1)\n",
    "        #eps = np.clip(eps, -5, 5)\n",
    "        \n",
    "        # After burn-in, save samples with thinning\n",
    "        if t > burn_in and (t - burn_in) % thinning == 0:\n",
    "            samples.append(theta.copy())\n",
    "            #print(theta)\n",
    "            \n",
    "    \n",
    "    return np.array(samples)"
   ]
  },
  {
   "cell_type": "code",
   "execution_count": 27,
   "id": "4becc3db-5d7b-49fd-ae1b-b9c8cddfbfcb",
   "metadata": {},
   "outputs": [
    {
     "name": "stdout",
     "output_type": "stream",
     "text": [
      "Mean of samples: [-1.33107897 -1.37844693]\n",
      "Covariance of samples: [[3.1485755  2.93791477]\n",
      " [2.93791477 3.22594265]]\n"
     ]
    }
   ],
   "source": [
    "# Parameters for the multivariate Gaussian distribution N(mu, Sigma)\n",
    "mu = means  # Mean vector (non-zero)\n",
    "Sigma = covariance_matrix  # Covariance matrix\n",
    "eta_0 = 0.1  # Initial learning rate\n",
    "theta_init = np.random.randn(2)  # Start with a 2D random point\n",
    "r_init = np.random.randn(2)\n",
    "eps_init = 0\n",
    "a = 1\n",
    "num_samples = 5000  # Number of samples we want to collect after burn-in\n",
    "\n",
    "# Run SGLD to sample from N(mu, Sigma)\n",
    "samples = sgnht_sample_gaussian_with_covariance(num_samples=num_samples, \n",
    "                                               theta_init=theta_init,\n",
    "                                               r_init = r_init,\n",
    "                                               eps_init = eps_init,\n",
    "                                               a = a,\n",
    "                                               mu=mu, \n",
    "                                               Sigma=Sigma, \n",
    "                                               eta_0=eta_0,\n",
    "                                               burn_in=100)\n",
    "\n",
    "# Now samples contains the SGLD samples from N(mu, Sigma)\n",
    "print(\"Mean of samples:\", np.mean(samples, axis=0))\n",
    "print(\"Covariance of samples:\", np.cov(samples, rowvar=False))"
   ]
  },
  {
   "cell_type": "code",
   "execution_count": 28,
   "id": "8cab407d-b114-4bbf-b437-caabab61e291",
   "metadata": {},
   "outputs": [],
   "source": [
    "rv_sampled = multivariate_normal(np.mean(samples, axis=0), np.cov(samples, rowvar=False))"
   ]
  },
  {
   "cell_type": "code",
   "execution_count": 29,
   "id": "edf94243-5c3b-4109-b204-f3c97d27d9e6",
   "metadata": {},
   "outputs": [
    {
     "data": {
      "image/png": "[encoded data removed]",
      "text/plain": [
       "<Figure size 1200x500 with 2 Axes>"
      ]
     },
     "metadata": {},
     "output_type": "display_data"
    }
   ],
   "source": [
    "x, y = np.mgrid[-7:7:.01, -7:7:.01]\n",
    "pos = np.dstack((x, y))\n",
    "\n",
    "fig, (ax1, ax2) = plt.subplots(figsize=(12, 5), ncols=2)\n",
    "\n",
    "ax1.contourf(x, y, rv_sampled.pdf(pos))\n",
    "ax1.set_title(\"Distribution obtained through sampling\")\n",
    "ax2.contourf(x, y, rv.pdf(pos))\n",
    "ax2.set_title(\"Actual Distribution\")\n",
    "\n",
    "plt.show()"
   ]
  },
  {
   "cell_type": "code",
   "execution_count": 47,
   "id": "3c1bd03f-a9c2-4ff6-94f3-8d579325994c",
   "metadata": {},
   "outputs": [],
   "source": [
    "def kl_divergence(samples, mu_P, Sigma_P):\n",
    "    \"\"\"\n",
    "    Compute the KL divergence between a true Gaussian distribution P and an empirical distribution Q using samples.\n",
    "    \n",
    "    Parameters:\n",
    "    - samples: Samples from the empirical distribution Q.\n",
    "    - mu_P: Mean of the true Gaussian distribution P.\n",
    "    - Sigma_P: Covariance matrix of the true Gaussian distribution P.\n",
    "    \n",
    "    Returns:\n",
    "    - KL divergence estimate.\n",
    "    \"\"\"\n",
    "    # Number of samples\n",
    "    N = samples.shape[0]\n",
    "    \n",
    "    # Dimensionality of the problem\n",
    "    d = samples.shape[1]\n",
    "    \n",
    "    # True distribution P (Gaussian)\n",
    "    P = multivariate_normal(mean=mu_P, cov=Sigma_P)\n",
    "    \n",
    "    # Fit KDE to the samples to estimate Q\n",
    "    kde = KernelDensity(kernel='gaussian', bandwidth=1).fit(samples)\n",
    "    \n",
    "    # Compute the KL divergence using Monte Carlo approximation\n",
    "    kl_div = 0.0\n",
    "    \n",
    "    for sample in samples:\n",
    "        # Log probabilities for the true distribution P\n",
    "        log_p_theta = P.logpdf(sample)\n",
    "        \n",
    "        # Log probabilities for the empirical distribution Q (estimated via KDE)\n",
    "        log_q_theta = kde.score_samples(sample.reshape(1, -1))  # Log of Q(theta)\n",
    "        #print(log_p_theta - log_q_theta)\n",
    "        \n",
    "        # Add to the KL divergence sum\n",
    "        kl_div += (log_p_theta - log_q_theta)\n",
    "    \n",
    "    # Average the KL divergence over all samples\n",
    "    kl_div /= N\n",
    "    \n",
    "    return kl_div"
   ]
  },
  {
   "cell_type": "code",
   "execution_count": 48,
   "id": "3f20a4e5-47dc-41b0-b6c5-4569d6295751",
   "metadata": {},
   "outputs": [
    {
     "data": {
      "text/plain": [
       "array([0.37629175])"
      ]
     },
     "execution_count": 48,
     "metadata": {},
     "output_type": "execute_result"
    }
   ],
   "source": [
    "kl_divergence(samples, means, covariance_matrix)"
   ]
  },
  {
   "cell_type": "code",
   "execution_count": null,
   "id": "94fa230d-d298-4008-83ed-4387b6f1e500",
   "metadata": {},
   "outputs": [],
   "source": []
  }
 ],
 "metadata": {
  "kernelspec": {
   "display_name": "Python 3 (ipykernel)",
   "language": "python",
   "name": "python3"
  },
  "language_info": {
   "codemirror_mode": {
    "name": "ipython",
    "version": 3
   },
   "file_extension": ".py",
   "mimetype": "text/x-python",
   "name": "python",
   "nbconvert_exporter": "python",
   "pygments_lexer": "ipython3",
   "version": "3.12.2"
  }
 },
 "nbformat": 4,
 "nbformat_minor": 5
}
